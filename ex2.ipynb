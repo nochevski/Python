{
 "cells": [
  {
   "cell_type": "code",
   "execution_count": 3,
   "id": "9aa2ec89-6a7d-43a2-bcef-ad5282c70003",
   "metadata": {},
   "outputs": [
    {
     "data": {
      "text/plain": [
       "<contextlib.ExitStack at 0x7f037cb0c690>"
      ]
     },
     "execution_count": 3,
     "metadata": {},
     "output_type": "execute_result"
    }
   ],
   "source": [
    "import numpy as np\n",
    "import matplotlib.pyplot as plt\n",
    "from astropy.io import fits \n",
    "from astropy.table import Table\n",
    "from astropy import units as u\n",
    "import os\n",
    "plt.ion()"
   ]
  },
  {
   "cell_type": "code",
   "execution_count": 5,
   "id": "e94770c7-5919-4d0c-8f31-b8434a2b3d6d",
   "metadata": {},
   "outputs": [
    {
     "name": "stdout",
     "output_type": "stream",
     "text": [
      "50.0 m\n",
      "[23. 45. 88.] m\n"
     ]
    }
   ],
   "source": [
    "a = 50.0 * u.meter\n",
    "b = [23, 45, 88] * u.meter\n",
    "print(a)\n",
    "print(b)"
   ]
  },
  {
   "cell_type": "code",
   "execution_count": 6,
   "id": "bfc2ef74-c894-42e4-8991-6d89328ae589",
   "metadata": {},
   "outputs": [
    {
     "data": {
      "text/latex": [
       "$52 \\; \\mathrm{m}$"
      ],
      "text/plain": [
       "<Quantity 52. m>"
      ]
     },
     "execution_count": 6,
     "metadata": {},
     "output_type": "execute_result"
    }
   ],
   "source": [
    "np.mean(b)"
   ]
  },
  {
   "cell_type": "code",
   "execution_count": 7,
   "id": "712a675b-2434-46ad-8542-92727492710f",
   "metadata": {},
   "outputs": [
    {
     "data": {
      "text/latex": [
       "$5 \\; \\mathrm{\\frac{m}{s}}$"
      ],
      "text/plain": [
       "<Quantity 5. m / s>"
      ]
     },
     "execution_count": 7,
     "metadata": {},
     "output_type": "execute_result"
    }
   ],
   "source": [
    "15 * u.meter / (3. * u.second)"
   ]
  },
  {
   "cell_type": "code",
   "execution_count": 9,
   "id": "cf9dd56f-0e10-4fce-9119-5cbb5f4e9332",
   "metadata": {},
   "outputs": [
    {
     "name": "stdout",
     "output_type": "stream",
     "text": [
      "62.0 pc\n"
     ]
    }
   ],
   "source": [
    "x = 62. * u.parsec\n",
    "print(x)"
   ]
  },
  {
   "cell_type": "code",
   "execution_count": 10,
   "id": "fbaaa906-ecc6-43ee-a6c6-c0cfe4878678",
   "metadata": {},
   "outputs": [],
   "source": [
    "y = 45. * u.parsec"
   ]
  },
  {
   "cell_type": "code",
   "execution_count": 11,
   "id": "d5e3c1fb-e1a4-4176-a713-62cef3806b36",
   "metadata": {},
   "outputs": [
    {
     "data": {
      "text/latex": [
       "$1.3777778 \\; \\mathrm{}$"
      ],
      "text/plain": [
       "<Quantity 1.37777778>"
      ]
     },
     "execution_count": 11,
     "metadata": {},
     "output_type": "execute_result"
    }
   ],
   "source": [
    "x/y"
   ]
  },
  {
   "cell_type": "code",
   "execution_count": 12,
   "id": "af55988e-9085-46e5-8a1f-85e4572711a8",
   "metadata": {},
   "outputs": [],
   "source": [
    "z = x.value / y.value"
   ]
  },
  {
   "cell_type": "code",
   "execution_count": 14,
   "id": "a221d3af-7edc-48ba-9f11-474b56d4d409",
   "metadata": {},
   "outputs": [
    {
     "data": {
      "text/plain": [
       "numpy.float64"
      ]
     },
     "execution_count": 14,
     "metadata": {},
     "output_type": "execute_result"
    }
   ],
   "source": [
    "type(z)"
   ]
  },
  {
   "cell_type": "code",
   "execution_count": 17,
   "id": "48fbf86b-47b5-447f-bdfe-b41801925afa",
   "metadata": {},
   "outputs": [
    {
     "name": "stdout",
     "output_type": "stream",
     "text": [
      "1.38\n"
     ]
    }
   ],
   "source": [
    "rr = np.around(z, decimals=2)\n",
    "print(rr)"
   ]
  },
  {
   "cell_type": "code",
   "execution_count": 18,
   "id": "78ff2901-f0df-430a-bad9-7e53bc6aa45d",
   "metadata": {},
   "outputs": [],
   "source": [
    "c = [4, 7, 10] * u.second"
   ]
  },
  {
   "cell_type": "code",
   "execution_count": 29,
   "id": "2d1a6d12-8b11-4c3b-9438-a830b3743736",
   "metadata": {},
   "outputs": [
    {
     "data": {
      "image/png": "[encoded data removed]",
      "text/plain": [
       "<Figure size 700x500 with 1 Axes>"
      ]
     },
     "metadata": {},
     "output_type": "display_data"
    }
   ],
   "source": [
    "plt.figure(figsize=(7,5))\n",
    "plt.plot(b,c, ls='', color='#000000', marker='.', label='Wind speed')\n",
    "plt.xlabel(\"Distance [m]\", fontsize=14)\n",
    "plt.ylabel(\"Time [s]\")\n",
    "plt.legend()\n",
    "\n",
    "l1 = np.linspace(0,100,10)\n",
    "l2 = np.linspace(0,100,10)"
   ]
  },
  {
   "cell_type": "code",
   "execution_count": null,
   "id": "1d22f408-d0c0-4e78-b4e8-52ec2ae8f214",
   "metadata": {},
   "outputs": [],
   "source": []
  }
 ],
 "metadata": {
  "kernelspec": {
   "display_name": "Python 3 (ipykernel)",
   "language": "python",
   "name": "python3"
  },
  "language_info": {
   "codemirror_mode": {
    "name": "ipython",
    "version": 3
   },
   "file_extension": ".py",
   "mimetype": "text/x-python",
   "name": "python",
   "nbconvert_exporter": "python",
   "pygments_lexer": "ipython3",
   "version": "3.13.2"
  }
 },
 "nbformat": 4,
 "nbformat_minor": 5
}
